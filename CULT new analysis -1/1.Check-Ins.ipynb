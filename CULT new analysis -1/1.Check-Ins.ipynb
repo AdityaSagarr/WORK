{
 "cells": [
  {
   "cell_type": "code",
   "execution_count": 4,
   "id": "f31f288f",
   "metadata": {},
   "outputs": [
    {
     "name": "stdout",
     "output_type": "stream",
     "text": [
      "Repeating user IDs with their counts:\n",
      "userid\n",
      "40119957    44\n",
      "4690251     25\n",
      "97343669    24\n",
      "97356262    23\n",
      "98115869    22\n",
      "82595198    21\n",
      "Name: count, dtype: int64\n"
     ]
    }
   ],
   "source": [
    "import pandas as pd\n",
    "\n",
    "# Load the dataset\n",
    "df = pd.read_csv(\"Checkin.csv\")\n",
    "\n",
    "# Count the occurrences of each user ID\n",
    "user_id_counts = df['userid'].value_counts()\n",
    "\n",
    "# Filter user IDs that appear more than once\n",
    "repeating_user_ids = user_id_counts[user_id_counts > 20]\n",
    "\n",
    "# Print the repeating user IDs with their counts\n",
    "print(\"Repeating user IDs with their counts:\")\n",
    "print(repeating_user_ids)\n"
   ]
  },
  {
   "cell_type": "code",
   "execution_count": 9,
   "id": "d989d22a",
   "metadata": {},
   "outputs": [
    {
     "name": "stdout",
     "output_type": "stream",
     "text": [
      "Frequency distribution of user counts (1 to 50):\n",
      "count\n",
      "1     240\n",
      "2     141\n",
      "3     105\n",
      "4      76\n",
      "5      79\n",
      "6      62\n",
      "7      53\n",
      "8      48\n",
      "9      33\n",
      "10     30\n",
      "11     12\n",
      "12     11\n",
      "13     12\n",
      "14      6\n",
      "15      5\n",
      "16      5\n",
      "17      2\n",
      "18      8\n",
      "19      3\n",
      "20      5\n",
      "21      1\n",
      "22      1\n",
      "23      1\n",
      "24      1\n",
      "25      1\n",
      "44      1\n",
      "Name: count, dtype: int64\n"
     ]
    },
    {
     "data": {
      "image/png": "[encoded data removed]",
      "text/plain": [
       "<Figure size 720x432 with 1 Axes>"
      ]
     },
     "metadata": {
      "needs_background": "light"
     },
     "output_type": "display_data"
    }
   ],
   "source": [
    "import pandas as pd\n",
    "import matplotlib.pyplot as plt\n",
    "\n",
    "# Load the dataset\n",
    "df = pd.read_csv(\"Checkin.csv\")\n",
    "\n",
    "# Count the occurrences of each user ID\n",
    "user_id_counts = df['userid'].value_counts()\n",
    "\n",
    "# Count the frequency of each count value\n",
    "frequency_distribution = user_id_counts.value_counts().sort_index()\n",
    "\n",
    "# Filter the distribution to only include counts from 1 to 50\n",
    "filtered_distribution = frequency_distribution[frequency_distribution.index <= 50]\n",
    "\n",
    "# Print the filtered distribution\n",
    "print(\"Frequency distribution of user counts (1 to 50):\")\n",
    "print(filtered_distribution)\n",
    "\n",
    "# Plot the distribution\n",
    "plt.figure(figsize=(10, 6))\n",
    "filtered_distribution.plot(kind='bar')\n",
    "plt.title('Frequency Distribution of User Counts (1 to 50)')\n",
    "plt.xlabel('Number of Check-ins')\n",
    "plt.ylabel('Number of Users')\n",
    "plt.xticks(rotation=0)\n",
    "plt.show()\n"
   ]
  },
  {
   "cell_type": "code",
   "execution_count": 7,
   "id": "6e33a051",
   "metadata": {},
   "outputs": [
    {
     "data": {
      "application/vnd.plotly.v1+json": {
       "config": {
        "plotlyServerURL": "https://plot.ly"
       },
       "data": [
        {
         "alignmentgroup": "True",
         "customdata": [
          [
           [
            93884247,
            10826256,
            96268784,
            93091156,
            93777105,
            95361803,
            6432342,
            94510171,
            94800153,
            155987,
            94166005,
            92728510,
            11978837,
            96049777,
            96833333,
            198524,
            47568574,
            32237103,
            86563667,
            59702705,
            96348099,
            2359649,
            95192868,
            94756809,
            88925979,
            87600587,
            93380641,
            92466209,
            67349149,
            47580041,
            95266308,
            95920933,
            82840140,
            26815,
            90878729,
            94286579,
            96338132,
            13469645,
            49294646,
            92267002,
            97579350,
            318324,
            94808095,
            95956970,
            116705,
            98742795,
            56392385,
            37193543,
            89418580,
            95584829,
            54364484,
            141472,
            96019765,
            9457834,
            31708981,
            36801594,
            93902459,
            31191375,
            95526850,
            565472,
            44207838,
            88496811,
            24122725,
            27234675,
            1219261,
            71981,
            30094,
            33578603,
            881115,
            92221313,
            88976828,
            87739950,
            21057516,
            87193405,
            265913,
            84900034,
            97453703,
            92994959,
            96671476,
            18777185,
            95158087,
            61176115,
            6142457,
            97063276,
            94850189,
            94532514,
            98350318,
            34864,
            34852,
            98675162,
            94635122,
            13509762,
            95292715,
            7429150,
            98587284,
            30120856,
            84067430,
            166216,
            732124,
            91395865,
            98649394,
            88875147,
            94800929,
            97782971,
            1242075,
            94492736,
            24675,
            16518949,
            645866,
            95134604,
            70190008,
            854380,
            21278618,
            4755455,
            88033407,
            86885173,
            93825521,
            93819477,
            91665439,
            23483898,
            94749258,
            52600,
            42316674,
            93632747,
            23417359,
            49781520,
            97812234,
            98618093,
            98663439,
            87208517,
            56539564,
            70017225,
            27600543,
            98608793,
            94070984,
            120014,
            7646378,
            134152,
            47593839,
            40098783,
            9722746,
            41716116,
            95069242,
            49722743,
            95132438,
            19405045,
            20677,
            45999737,
            7498827,
            31560668,
            48947889,
            93957880,
            98322101,
            95661092,
            98645123,
            85858598,
            24842202,
            84879973,
            86986716,
            28100057,
            95980599,
            10472381,
            2353903,
            1269281,
            34685339,
            55576657,
            25922626,
            4132902,
            95722875,
            94859756,
            89705617,
            91529543,
            5904097,
            31799686,
            68641209,
            53539340,
            28903974,
            21702938,
            92170752,
            92574032,
            79086334,
            94621427,
            98172944,
            190488,
            90023953,
            29491166,
            90391090,
            980352,
            98046973,
            35298715,
            96876273,
            98581361,
            92504343,
            35408344,
            95224883,
            10758932,
            24309622,
            64663236,
            98669354,
            97008837,
            46406960,
            85329703,
            24401626,
            78316501,
            47807400,
            33402631,
            70396775,
            15611490,
            96885452,
            97036461,
            94912652,
            88410171,
            97609995,
            4678209,
            47333269,
            85764359,
            3208402,
            67277049,
            94234888,
            83667189,
            92951955,
            37876320,
            20089308,
            16827780,
            16675224,
            14729917,
            35699618,
            35895,
            96274209,
            95585784,
            92895368,
            10092579,
            167796,
            7108567,
            93294924,
            49174911,
            95882400,
            92126611,
            256364,
            19074478
           ]
          ],
          [
           [
            1331304,
            74247,
            16449519,
            86567893,
            31559346,
            93966150,
            4807059,
            95613620,
            96127950,
            96999503,
            91932031,
            11086778,
            98581932,
            96961435,
            90553323,
            35987821,
            93812424,
            98054659,
            148590,
            96734413,
            99162,
            94138248,
            1067756,
            91645647,
            31241871,
            35449,
            65056701,
            54938807,
            88972499,
            98708573,
            92935053,
            93714922,
            12082662,
            232228,
            4189415,
            93953124,
            12188935,
            95593229,
            94088578,
            29055290,
            36644,
            7555423,
            53944074,
            95982152,
            97869356,
            95651070,
            95459789,
            314934,
            95397277,
            68234212,
            94928357,
            1480179,
            53812282,
            2232859,
            1568606,
            46541,
            6266326,
            93712873,
            95854679,
            96993257,
            94749252,
            8007604,
            95184326,
            94987539,
            96570386,
            94490363,
            98590674,
            97247885,
            94480292,
            17783032,
            98078929,
            183820,
            94834520,
            21802179,
            12587192,
            9847,
            13319747,
            55630195,
            117233,
            31155623,
            27571824,
            643198,
            485065,
            6310548,
            98523491,
            83639929,
            166235,
            95921284,
            81343034,
            17536509,
            93928905,
            13178890,
            64845259,
            92346247,
            65187999,
            5331595,
            181739,
            25970170,
            86212317,
            96631070,
            70582136,
            11172499,
            22884629,
            12270945,
            82422414,
            65589,
            25810911,
            19946305,
            49843,
            65420119,
            26960,
            12663072,
            24980476,
            91294564,
            22364049,
            14086476,
            39577537,
            23304460,
            15572386,
            64653794,
            35257580,
            1182516,
            95121968,
            93687607,
            136845,
            87379526,
            26706,
            50550,
            96419397,
            97376545,
            15652976,
            74538715,
            25236371,
            90522616,
            92603643,
            97074690,
            46904997,
            92453732,
            64586484,
            80211388,
            83507429
           ]
          ],
          [
           [
            98001156,
            85900483,
            87406902,
            97379819,
            2827650,
            3529710,
            95821443,
            20114086,
            97006320,
            97259927,
            52513972,
            92834079,
            67876261,
            95079130,
            5326,
            98001078,
            90952003,
            1268233,
            50946059,
            47866825,
            49684818,
            149806,
            90840479,
            841445,
            91920752,
            23339436,
            25528920,
            5430821,
            95293507,
            97992089,
            91269866,
            186148,
            96449995,
            97316825,
            95392795,
            83923480,
            24785412,
            90999491,
            9836065,
            5301,
            96137755,
            97038200,
            93887689,
            29215269,
            83966829,
            91910541,
            87268948,
            21695085,
            88073625,
            2009410,
            96284740,
            93696594,
            90685994,
            70075399,
            22258291,
            98000802,
            96422116,
            7579905,
            68535,
            89538098,
            21868519,
            95493110,
            94958116,
            64958016,
            16524587,
            88633889,
            97073649,
            84043,
            21172277,
            87582902,
            85629439,
            96476509,
            93487207,
            94452510,
            94792088,
            95494208,
            1715616,
            43072,
            2118021,
            97313422,
            96178763,
            835909,
            98418541,
            91923422,
            34836909,
            96276003,
            94542418,
            96501911,
            27235095,
            91506852,
            94820181,
            95364652,
            5206833,
            124502,
            25026498,
            130199,
            805953,
            62931072,
            32179832,
            6755823,
            97965545,
            86537964,
            97903425,
            90268634,
            86244330
           ]
          ],
          [
           [
            95344288,
            96649653,
            2665308,
            25275810,
            19161999,
            96529537,
            93949770,
            94261728,
            98604743,
            163609,
            141792,
            96652283,
            95863152,
            98288328,
            94163377,
            93323959,
            20630417,
            2767237,
            141427,
            98624801,
            97505216,
            96259387,
            24411948,
            97614823,
            94719358,
            95598401,
            1600979,
            97517506,
            165737,
            91884934,
            27330836,
            21109735,
            189286,
            96080913,
            95012196,
            13706698,
            18500812,
            109601,
            71603,
            97402840,
            91347688,
            1262402,
            96661569,
            96805919,
            2334936,
            94617944,
            94797973,
            94009736,
            32540637,
            61289,
            95726130,
            96585348,
            94408878,
            41206678,
            86684333,
            9639616,
            97928309,
            68043413,
            47400942,
            54734626,
            90553063,
            10628362,
            90403778,
            13238882,
            95155963,
            95868192,
            980059,
            94668693,
            25587712,
            93988334,
            94361316,
            31270998,
            97957076,
            5876325,
            96177696,
            93969951
           ]
          ],
          [
           [
            23102277,
            96762846,
            94452339,
            95609670,
            8088,
            84789651,
            96366612,
            17368482,
            4992682,
            88781250,
            4668227,
            93839904,
            83501496,
            14734015,
            36556539,
            35641904,
            18269656,
            95163453,
            93933709,
            65900200,
            81341650,
            96820564,
            97005426,
            96578444,
            95819105,
            12801788,
            91118005,
            93042582,
            70348612,
            62861651,
            98316937,
            96065762,
            95985339,
            84527427,
            52560501,
            95529917,
            719065,
            86073317,
            96010142,
            82079164,
            11741922,
            94056281,
            47963251,
            81216695,
            57259792,
            98054406,
            10891657,
            8990480,
            41811050,
            17783090,
            31695280,
            96462256,
            65794623,
            5860224,
            96040607,
            26990826,
            24490966,
            823058,
            98302057,
            80404412,
            90714793,
            64663894,
            795097,
            29316219,
            23069,
            39118868,
            8223342,
            66370616,
            21889149,
            67012106,
            96535759,
            152118,
            93792292,
            98651,
            9476120,
            49803079,
            25109222,
            97530722,
            96289072
           ]
          ],
          [
           [
            84203582,
            97752856,
            93931952,
            98221894,
            95701558,
            90471140,
            13935575,
            47628620,
            73840829,
            1909210,
            88545933,
            898842,
            23344808,
            67458937,
            94656916,
            86492908,
            97944898,
            49840063,
            96237517,
            1141753,
            44858135,
            6362391,
            89525239,
            7838313,
            1133609,
            82175503,
            30398705,
            95469297,
            95242445,
            98471462,
            248014,
            96062288,
            8657434,
            21641830,
            94763670,
            93558538,
            94973652,
            53527579,
            63768182,
            1314047,
            86189891,
            97912881,
            86431681,
            98328740,
            8395413,
            87127348,
            98054338,
            87437497,
            97615266,
            87274234,
            92805476,
            93501091,
            25153879,
            97912286,
            94856222,
            20432346,
            98595443,
            95301468,
            19968630,
            93200151,
            95297782,
            40883782
           ]
          ],
          [
           [
            98028099,
            39581392,
            85183015,
            29763268,
            17361919,
            86358191,
            93614810,
            20134336,
            96517218,
            96946388,
            94985130,
            98630740,
            32497,
            118716,
            97917588,
            95464638,
            14371193,
            97827748,
            84621662,
            12204046,
            129092,
            95218894,
            972213,
            77869,
            21943708,
            95472210,
            98280096,
            98076740,
            24934194,
            7303768,
            89661043,
            95484388,
            18572495,
            74330265,
            93781539,
            82626217,
            81360300,
            532279,
            10601948,
            55247084,
            95331022,
            95604292,
            21783861,
            50098404,
            97459536,
            94513807,
            95254856,
            92757322,
            92708366,
            95238950,
            94489148,
            95297461,
            85525705
           ]
          ],
          [
           [
            97003497,
            94490164,
            97323927,
            96974785,
            97071929,
            96103845,
            94655812,
            94586963,
            95285513,
            1031889,
            97113578,
            67851531,
            85948849,
            52927985,
            97354538,
            64795793,
            96564471,
            37562483,
            96086447,
            94322384,
            62840735,
            96454372,
            79505335,
            96547053,
            96936514,
            96086379,
            87421858,
            98514089,
            92244526,
            5662816,
            22610996,
            96580973,
            14157384,
            946223,
            73891418,
            71309468,
            37072355,
            69556544,
            30219230,
            14362905,
            95141462,
            9493423,
            98340870,
            90010745,
            92391346,
            32153977,
            88763183,
            1353287
           ]
          ],
          [
           [
            95084379,
            535634,
            1083600,
            96928559,
            94598035,
            98088849,
            97528273,
            153462,
            88800790,
            98374683,
            88763465,
            11872139,
            85662779,
            41323872,
            94751895,
            98022429,
            91883701,
            47680225,
            68451505,
            90084449,
            97205184,
            96321020,
            4207207,
            56551270,
            92535618,
            67659833,
            1293690,
            94681671,
            17003387,
            1897620,
            94656409,
            96182748,
            98519687
           ]
          ],
          [
           [
            93496332,
            319448,
            90285319,
            94071072,
            89942819,
            97275250,
            95610179,
            26594035,
            10400867,
            96149121,
            94627801,
            94361296,
            98497149,
            98477334,
            95497377,
            3835321,
            92841426,
            95093262,
            17657448,
            28873287,
            33528081,
            51933842,
            949150,
            94376415,
            1364181,
            88787218,
            96546716,
            31785517,
            1349815,
            92928612
           ]
          ],
          [
           [
            29941950,
            96660345,
            64360494,
            86093886,
            94752414,
            94372898,
            44669003,
            95206345,
            4003005,
            98370675,
            51904436,
            96273103
           ]
          ],
          [
           [
            95720186,
            194213,
            98306946,
            71152892,
            21767036,
            92951646,
            94582194,
            97849879,
            97443237,
            98344616,
            93978350
           ]
          ],
          [
           [
            95591247,
            93795269,
            93008074,
            6559953,
            36011415,
            27629985,
            58199386,
            40035211,
            1533105,
            18348189,
            47584216,
            92963738
           ]
          ],
          [
           [
            6755340,
            94657105,
            96105725,
            9830558,
            16543498,
            95706413
           ]
          ],
          [
           [
            89778988,
            97632525,
            1364859,
            1101737,
            95367651
           ]
          ],
          [
           [
            93917404,
            98376162,
            96200693,
            97117522,
            95916288
           ]
          ],
          [
           [
            89355099,
            90116263
           ]
          ],
          [
           [
            26037499,
            96881635,
            15888207,
            86019532,
            18856439,
            55728247,
            98413409,
            97484756
           ]
          ],
          [
           [
            97752801,
            97912529,
            97024801
           ]
          ],
          [
           [
            97196247,
            83626690,
            51930260,
            24014640,
            90834993
           ]
          ],
          [
           [
            82595198
           ]
          ],
          [
           [
            98115869
           ]
          ],
          [
           [
            97356262
           ]
          ],
          [
           [
            97343669
           ]
          ],
          [
           [
            4690251
           ]
          ],
          [
           [
            40119957
           ]
          ]
         ],
         "hovertemplate": "Number of Check-ins=%{x}<br>Number of Users=%{y}<br>List of User IDs=%{customdata[0]}<extra></extra>",
         "legendgroup": "",
         "marker": {
          "color": "#636efa",
          "pattern": {
           "shape": ""
          }
         },
         "name": "",
         "offsetgroup": "",
         "orientation": "v",
         "showlegend": false,
         "textposition": "auto",
         "type": "bar",
         "x": [
          1,
          2,
          3,
          4,
          5,
          6,
          7,
          8,
          9,
          10,
          11,
          12,
          13,
          14,
          15,
          16,
          17,
          18,
          19,
          20,
          21,
          22,
          23,
          24,
          25,
          44
         ],
         "xaxis": "x",
         "y": [
          240,
          141,
          105,
          76,
          79,
          62,
          53,
          48,
          33,
          30,
          12,
          11,
          12,
          6,
          5,
          5,
          2,
          8,
          3,
          5,
          1,
          1,
          1,
          1,
          1,
          1
         ],
         "yaxis": "y"
        }
       ],
       "layout": {
        "barmode": "relative",
        "hovermode": "closest",
        "legend": {
         "tracegroupgap": 0
        },
        "margin": {
         "t": 60
        },
        "template": {
         "data": {
          "bar": [
           {
            "error_x": {
             "color": "#2a3f5f"
            },
            "error_y": {
             "color": "#2a3f5f"
            },
            "marker": {
             "line": {
              "color": "#E5ECF6",
              "width": 0.5
             },
             "pattern": {
              "fillmode": "overlay",
              "size": 10,
              "solidity": 0.2
             }
            },
            "type": "bar"
           }
          ],
          "barpolar": [
           {
            "marker": {
             "line": {
              "color": "#E5ECF6",
              "width": 0.5
             },
             "pattern": {
              "fillmode": "overlay",
              "size": 10,
              "solidity": 0.2
             }
            },
            "type": "barpolar"
           }
          ],
          "carpet": [
           {
            "aaxis": {
             "endlinecolor": "#2a3f5f",
             "gridcolor": "white",
             "linecolor": "white",
             "minorgridcolor": "white",
             "startlinecolor": "#2a3f5f"
            },
            "baxis": {
             "endlinecolor": "#2a3f5f",
             "gridcolor": "white",
             "linecolor": "white",
             "minorgridcolor": "white",
             "startlinecolor": "#2a3f5f"
            },
            "type": "carpet"
           }
          ],
          "choropleth": [
           {
            "colorbar": {
             "outlinewidth": 0,
             "ticks": ""
            },
            "type": "choropleth"
           }
          ],
          "contour": [
           {
            "colorbar": {
             "outlinewidth": 0,
             "ticks": ""
            },
            "colorscale": [
             [
              0,
              "#0d0887"
             ],
             [
              0.1111111111111111,
              "#46039f"
             ],
             [
              0.2222222222222222,
              "#7201a8"
             ],
             [
              0.3333333333333333,
              "#9c179e"
             ],
             [
              0.4444444444444444,
              "#bd3786"
             ],
             [
              0.5555555555555556,
              "#d8576b"
             ],
             [
              0.6666666666666666,
              "#ed7953"
             ],
             [
              0.7777777777777778,
              "#fb9f3a"
             ],
             [
              0.8888888888888888,
              "#fdca26"
             ],
             [
              1,
              "#f0f921"
             ]
            ],
            "type": "contour"
           }
          ],
          "contourcarpet": [
           {
            "colorbar": {
             "outlinewidth": 0,
             "ticks": ""
            },
            "type": "contourcarpet"
           }
          ],
          "heatmap": [
           {
            "colorbar": {
             "outlinewidth": 0,
             "ticks": ""
            },
            "colorscale": [
             [
              0,
              "#0d0887"
             ],
             [
              0.1111111111111111,
              "#46039f"
             ],
             [
              0.2222222222222222,
              "#7201a8"
             ],
             [
              0.3333333333333333,
              "#9c179e"
             ],
             [
              0.4444444444444444,
              "#bd3786"
             ],
             [
              0.5555555555555556,
              "#d8576b"
             ],
             [
              0.6666666666666666,
              "#ed7953"
             ],
             [
              0.7777777777777778,
              "#fb9f3a"
             ],
             [
              0.8888888888888888,
              "#fdca26"
             ],
             [
              1,
              "#f0f921"
             ]
            ],
            "type": "heatmap"
           }
          ],
          "heatmapgl": [
           {
            "colorbar": {
             "outlinewidth": 0,
             "ticks": ""
            },
            "colorscale": [
             [
              0,
              "#0d0887"
             ],
             [
              0.1111111111111111,
              "#46039f"
             ],
             [
              0.2222222222222222,
              "#7201a8"
             ],
             [
              0.3333333333333333,
              "#9c179e"
             ],
             [
              0.4444444444444444,
              "#bd3786"
             ],
             [
              0.5555555555555556,
              "#d8576b"
             ],
             [
              0.6666666666666666,
              "#ed7953"
             ],
             [
              0.7777777777777778,
              "#fb9f3a"
             ],
             [
              0.8888888888888888,
              "#fdca26"
             ],
             [
              1,
              "#f0f921"
             ]
            ],
            "type": "heatmapgl"
           }
          ],
          "histogram": [
           {
            "marker": {
             "pattern": {
              "fillmode": "overlay",
              "size": 10,
              "solidity": 0.2
             }
            },
            "type": "histogram"
           }
          ],
          "histogram2d": [
           {
            "colorbar": {
             "outlinewidth": 0,
             "ticks": ""
            },
            "colorscale": [
             [
              0,
              "#0d0887"
             ],
             [
              0.1111111111111111,
              "#46039f"
             ],
             [
              0.2222222222222222,
              "#7201a8"
             ],
             [
              0.3333333333333333,
              "#9c179e"
             ],
             [
              0.4444444444444444,
              "#bd3786"
             ],
             [
              0.5555555555555556,
              "#d8576b"
             ],
             [
              0.6666666666666666,
              "#ed7953"
             ],
             [
              0.7777777777777778,
              "#fb9f3a"
             ],
             [
              0.8888888888888888,
              "#fdca26"
             ],
             [
              1,
              "#f0f921"
             ]
            ],
            "type": "histogram2d"
           }
          ],
          "histogram2dcontour": [
           {
            "colorbar": {
             "outlinewidth": 0,
             "ticks": ""
            },
            "colorscale": [
             [
              0,
              "#0d0887"
             ],
             [
              0.1111111111111111,
              "#46039f"
             ],
             [
              0.2222222222222222,
              "#7201a8"
             ],
             [
              0.3333333333333333,
              "#9c179e"
             ],
             [
              0.4444444444444444,
              "#bd3786"
             ],
             [
              0.5555555555555556,
              "#d8576b"
             ],
             [
              0.6666666666666666,
              "#ed7953"
             ],
             [
              0.7777777777777778,
              "#fb9f3a"
             ],
             [
              0.8888888888888888,
              "#fdca26"
             ],
             [
              1,
              "#f0f921"
             ]
            ],
            "type": "histogram2dcontour"
           }
          ],
          "mesh3d": [
           {
            "colorbar": {
             "outlinewidth": 0,
             "ticks": ""
            },
            "type": "mesh3d"
           }
          ],
          "parcoords": [
           {
            "line": {
             "colorbar": {
              "outlinewidth": 0,
              "ticks": ""
             }
            },
            "type": "parcoords"
           }
          ],
          "pie": [
           {
            "automargin": true,
            "type": "pie"
           }
          ],
          "scatter": [
           {
            "fillpattern": {
             "fillmode": "overlay",
             "size": 10,
             "solidity": 0.2
            },
            "type": "scatter"
           }
          ],
          "scatter3d": [
           {
            "line": {
             "colorbar": {
              "outlinewidth": 0,
              "ticks": ""
             }
            },
            "marker": {
             "colorbar": {
              "outlinewidth": 0,
              "ticks": ""
             }
            },
            "type": "scatter3d"
           }
          ],
          "scattercarpet": [
           {
            "marker": {
             "colorbar": {
              "outlinewidth": 0,
              "ticks": ""
             }
            },
            "type": "scattercarpet"
           }
          ],
          "scattergeo": [
           {
            "marker": {
             "colorbar": {
              "outlinewidth": 0,
              "ticks": ""
             }
            },
            "type": "scattergeo"
           }
          ],
          "scattergl": [
           {
            "marker": {
             "colorbar": {
              "outlinewidth": 0,
              "ticks": ""
             }
            },
            "type": "scattergl"
           }
          ],
          "scattermapbox": [
           {
            "marker": {
             "colorbar": {
              "outlinewidth": 0,
              "ticks": ""
             }
            },
            "type": "scattermapbox"
           }
          ],
          "scatterpolar": [
           {
            "marker": {
             "colorbar": {
              "outlinewidth": 0,
              "ticks": ""
             }
            },
            "type": "scatterpolar"
           }
          ],
          "scatterpolargl": [
           {
            "marker": {
             "colorbar": {
              "outlinewidth": 0,
              "ticks": ""
             }
            },
            "type": "scatterpolargl"
           }
          ],
          "scatterternary": [
           {
            "marker": {
             "colorbar": {
              "outlinewidth": 0,
              "ticks": ""
             }
            },
            "type": "scatterternary"
           }
          ],
          "surface": [
           {
            "colorbar": {
             "outlinewidth": 0,
             "ticks": ""
            },
            "colorscale": [
             [
              0,
              "#0d0887"
             ],
             [
              0.1111111111111111,
              "#46039f"
             ],
             [
              0.2222222222222222,
              "#7201a8"
             ],
             [
              0.3333333333333333,
              "#9c179e"
             ],
             [
              0.4444444444444444,
              "#bd3786"
             ],
             [
              0.5555555555555556,
              "#d8576b"
             ],
             [
              0.6666666666666666,
              "#ed7953"
             ],
             [
              0.7777777777777778,
              "#fb9f3a"
             ],
             [
              0.8888888888888888,
              "#fdca26"
             ],
             [
              1,
              "#f0f921"
             ]
            ],
            "type": "surface"
           }
          ],
          "table": [
           {
            "cells": {
             "fill": {
              "color": "#EBF0F8"
             },
             "line": {
              "color": "white"
             }
            },
            "header": {
             "fill": {
              "color": "#C8D4E3"
             },
             "line": {
              "color": "white"
             }
            },
            "type": "table"
           }
          ]
         },
         "layout": {
          "annotationdefaults": {
           "arrowcolor": "#2a3f5f",
           "arrowhead": 0,
           "arrowwidth": 1
          },
          "autotypenumbers": "strict",
          "coloraxis": {
           "colorbar": {
            "outlinewidth": 0,
            "ticks": ""
           }
          },
          "colorscale": {
           "diverging": [
            [
             0,
             "#8e0152"
            ],
            [
             0.1,
             "#c51b7d"
            ],
            [
             0.2,
             "#de77ae"
            ],
            [
             0.3,
             "#f1b6da"
            ],
            [
             0.4,
             "#fde0ef"
            ],
            [
             0.5,
             "#f7f7f7"
            ],
            [
             0.6,
             "#e6f5d0"
            ],
            [
             0.7,
             "#b8e186"
            ],
            [
             0.8,
             "#7fbc41"
            ],
            [
             0.9,
             "#4d9221"
            ],
            [
             1,
             "#276419"
            ]
           ],
           "sequential": [
            [
             0,
             "#0d0887"
            ],
            [
             0.1111111111111111,
             "#46039f"
            ],
            [
             0.2222222222222222,
             "#7201a8"
            ],
            [
             0.3333333333333333,
             "#9c179e"
            ],
            [
             0.4444444444444444,
             "#bd3786"
            ],
            [
             0.5555555555555556,
             "#d8576b"
            ],
            [
             0.6666666666666666,
             "#ed7953"
            ],
            [
             0.7777777777777778,
             "#fb9f3a"
            ],
            [
             0.8888888888888888,
             "#fdca26"
            ],
            [
             1,
             "#f0f921"
            ]
           ],
           "sequentialminus": [
            [
             0,
             "#0d0887"
            ],
            [
             0.1111111111111111,
             "#46039f"
            ],
            [
             0.2222222222222222,
             "#7201a8"
            ],
            [
             0.3333333333333333,
             "#9c179e"
            ],
            [
             0.4444444444444444,
             "#bd3786"
            ],
            [
             0.5555555555555556,
             "#d8576b"
            ],
            [
             0.6666666666666666,
             "#ed7953"
            ],
            [
             0.7777777777777778,
             "#fb9f3a"
            ],
            [
             0.8888888888888888,
             "#fdca26"
            ],
            [
             1,
             "#f0f921"
            ]
           ]
          },
          "colorway": [
           "#636efa",
           "#EF553B",
           "#00cc96",
           "#ab63fa",
           "#FFA15A",
           "#19d3f3",
           "#FF6692",
           "#B6E880",
           "#FF97FF",
           "#FECB52"
          ],
          "font": {
           "color": "#2a3f5f"
          },
          "geo": {
           "bgcolor": "white",
           "lakecolor": "white",
           "landcolor": "#E5ECF6",
           "showlakes": true,
           "showland": true,
           "subunitcolor": "white"
          },
          "hoverlabel": {
           "align": "left"
          },
          "hovermode": "closest",
          "mapbox": {
           "style": "light"
          },
          "paper_bgcolor": "white",
          "plot_bgcolor": "#E5ECF6",
          "polar": {
           "angularaxis": {
            "gridcolor": "white",
            "linecolor": "white",
            "ticks": ""
           },
           "bgcolor": "#E5ECF6",
           "radialaxis": {
            "gridcolor": "white",
            "linecolor": "white",
            "ticks": ""
           }
          },
          "scene": {
           "xaxis": {
            "backgroundcolor": "#E5ECF6",
            "gridcolor": "white",
            "gridwidth": 2,
            "linecolor": "white",
            "showbackground": true,
            "ticks": "",
            "zerolinecolor": "white"
           },
           "yaxis": {
            "backgroundcolor": "#E5ECF6",
            "gridcolor": "white",
            "gridwidth": 2,
            "linecolor": "white",
            "showbackground": true,
            "ticks": "",
            "zerolinecolor": "white"
           },
           "zaxis": {
            "backgroundcolor": "#E5ECF6",
            "gridcolor": "white",
            "gridwidth": 2,
            "linecolor": "white",
            "showbackground": true,
            "ticks": "",
            "zerolinecolor": "white"
           }
          },
          "shapedefaults": {
           "line": {
            "color": "#2a3f5f"
           }
          },
          "ternary": {
           "aaxis": {
            "gridcolor": "white",
            "linecolor": "white",
            "ticks": ""
           },
           "baxis": {
            "gridcolor": "white",
            "linecolor": "white",
            "ticks": ""
           },
           "bgcolor": "#E5ECF6",
           "caxis": {
            "gridcolor": "white",
            "linecolor": "white",
            "ticks": ""
           }
          },
          "title": {
           "x": 0.05
          },
          "xaxis": {
           "automargin": true,
           "gridcolor": "white",
           "linecolor": "white",
           "ticks": "",
           "title": {
            "standoff": 15
           },
           "zerolinecolor": "white",
           "zerolinewidth": 2
          },
          "yaxis": {
           "automargin": true,
           "gridcolor": "white",
           "linecolor": "white",
           "ticks": "",
           "title": {
            "standoff": 15
           },
           "zerolinecolor": "white",
           "zerolinewidth": 2
          }
         }
        },
        "title": {
         "text": "Frequency Distribution of User Counts (1 to 50)"
        },
        "xaxis": {
         "anchor": "y",
         "domain": [
          0,
          1
         ],
         "dtick": 2,
         "tickmode": "linear",
         "title": {
          "text": "Number of Check-ins"
         }
        },
        "yaxis": {
         "anchor": "x",
         "domain": [
          0,
          1
         ],
         "dtick": 10,
         "tickmode": "linear",
         "title": {
          "text": "Number of Users"
         }
        }
       }
      },
      "text/html": [
       "<div>                            <div id=\"13fdb2af-c5c3-4061-90cf-47ec0cb45448\" class=\"plotly-graph-div\" style=\"height:525px; width:100%;\"></div>            <script type=\"text/javascript\">                require([\"plotly\"], function(Plotly) {                    window.PLOTLYENV=window.PLOTLYENV || {};                                    if (document.getElementById(\"13fdb2af-c5c3-4061-90cf-47ec0cb45448\")) {                    Plotly.newPlot(                        \"13fdb2af-c5c3-4061-90cf-47ec0cb45448\",                        [{\"alignmentgroup\":\"True\",\"customdata\":[[[93884247,10826256,96268784,93091156,93777105,95361803,6432342,94510171,94800153,155987,94166005,92728510,11978837,96049777,96833333,198524,47568574,32237103,86563667,59702705,96348099,2359649,95192868,94756809,88925979,87600587,93380641,92466209,67349149,47580041,95266308,95920933,82840140,26815,90878729,94286579,96338132,13469645,49294646,92267002,97579350,318324,94808095,95956970,116705,98742795,56392385,37193543,89418580,95584829,54364484,141472,96019765,9457834,31708981,36801594,93902459,31191375,95526850,565472,44207838,88496811,24122725,27234675,1219261,71981,30094,33578603,881115,92221313,88976828,87739950,21057516,87193405,265913,84900034,97453703,92994959,96671476,18777185,95158087,61176115,6142457,97063276,94850189,94532514,98350318,34864,34852,98675162,94635122,13509762,95292715,7429150,98587284,30120856,84067430,166216,732124,91395865,98649394,88875147,94800929,97782971,1242075,94492736,24675,16518949,645866,95134604,70190008,854380,21278618,4755455,88033407,86885173,93825521,93819477,91665439,23483898,94749258,52600,42316674,93632747,23417359,49781520,97812234,98618093,98663439,87208517,56539564,70017225,27600543,98608793,94070984,120014,7646378,134152,47593839,40098783,9722746,41716116,95069242,49722743,95132438,19405045,20677,45999737,7498827,31560668,48947889,93957880,98322101,95661092,98645123,85858598,24842202,84879973,86986716,28100057,95980599,10472381,2353903,1269281,34685339,55576657,25922626,4132902,95722875,94859756,89705617,91529543,5904097,31799686,68641209,53539340,28903974,21702938,92170752,92574032,79086334,94621427,98172944,190488,90023953,29491166,90391090,980352,98046973,35298715,96876273,98581361,92504343,35408344,95224883,10758932,24309622,64663236,98669354,97008837,46406960,85329703,24401626,78316501,47807400,33402631,70396775,15611490,96885452,97036461,94912652,88410171,97609995,4678209,47333269,85764359,3208402,67277049,94234888,83667189,92951955,37876320,20089308,16827780,16675224,14729917,35699618,35895,96274209,95585784,92895368,10092579,167796,7108567,93294924,49174911,95882400,92126611,256364,19074478]],[[1331304,74247,16449519,86567893,31559346,93966150,4807059,95613620,96127950,96999503,91932031,11086778,98581932,96961435,90553323,35987821,93812424,98054659,148590,96734413,99162,94138248,1067756,91645647,31241871,35449,65056701,54938807,88972499,98708573,92935053,93714922,12082662,232228,4189415,93953124,12188935,95593229,94088578,29055290,36644,7555423,53944074,95982152,97869356,95651070,95459789,314934,95397277,68234212,94928357,1480179,53812282,2232859,1568606,46541,6266326,93712873,95854679,96993257,94749252,8007604,95184326,94987539,96570386,94490363,98590674,97247885,94480292,17783032,98078929,183820,94834520,21802179,12587192,9847,13319747,55630195,117233,31155623,27571824,643198,485065,6310548,98523491,83639929,166235,95921284,81343034,17536509,93928905,13178890,64845259,92346247,65187999,5331595,181739,25970170,86212317,96631070,70582136,11172499,22884629,12270945,82422414,65589,25810911,19946305,49843,65420119,26960,12663072,24980476,91294564,22364049,14086476,39577537,23304460,15572386,64653794,35257580,1182516,95121968,93687607,136845,87379526,26706,50550,96419397,97376545,15652976,74538715,25236371,90522616,92603643,97074690,46904997,92453732,64586484,80211388,83507429]],[[98001156,85900483,87406902,97379819,2827650,3529710,95821443,20114086,97006320,97259927,52513972,92834079,67876261,95079130,5326,98001078,90952003,1268233,50946059,47866825,49684818,149806,90840479,841445,91920752,23339436,25528920,5430821,95293507,97992089,91269866,186148,96449995,97316825,95392795,83923480,24785412,90999491,9836065,5301,96137755,97038200,93887689,29215269,83966829,91910541,87268948,21695085,88073625,2009410,96284740,93696594,90685994,70075399,22258291,98000802,96422116,7579905,68535,89538098,21868519,95493110,94958116,64958016,16524587,88633889,97073649,84043,21172277,87582902,85629439,96476509,93487207,94452510,94792088,95494208,1715616,43072,2118021,97313422,96178763,835909,98418541,91923422,34836909,96276003,94542418,96501911,27235095,91506852,94820181,95364652,5206833,124502,25026498,130199,805953,62931072,32179832,6755823,97965545,86537964,97903425,90268634,86244330]],[[95344288,96649653,2665308,25275810,19161999,96529537,93949770,94261728,98604743,163609,141792,96652283,95863152,98288328,94163377,93323959,20630417,2767237,141427,98624801,97505216,96259387,24411948,97614823,94719358,95598401,1600979,97517506,165737,91884934,27330836,21109735,189286,96080913,95012196,13706698,18500812,109601,71603,97402840,91347688,1262402,96661569,96805919,2334936,94617944,94797973,94009736,32540637,61289,95726130,96585348,94408878,41206678,86684333,9639616,97928309,68043413,47400942,54734626,90553063,10628362,90403778,13238882,95155963,95868192,980059,94668693,25587712,93988334,94361316,31270998,97957076,5876325,96177696,93969951]],[[23102277,96762846,94452339,95609670,8088,84789651,96366612,17368482,4992682,88781250,4668227,93839904,83501496,14734015,36556539,35641904,18269656,95163453,93933709,65900200,81341650,96820564,97005426,96578444,95819105,12801788,91118005,93042582,70348612,62861651,98316937,96065762,95985339,84527427,52560501,95529917,719065,86073317,96010142,82079164,11741922,94056281,47963251,81216695,57259792,98054406,10891657,8990480,41811050,17783090,31695280,96462256,65794623,5860224,96040607,26990826,24490966,823058,98302057,80404412,90714793,64663894,795097,29316219,23069,39118868,8223342,66370616,21889149,67012106,96535759,152118,93792292,98651,9476120,49803079,25109222,97530722,96289072]],[[84203582,97752856,93931952,98221894,95701558,90471140,13935575,47628620,73840829,1909210,88545933,898842,23344808,67458937,94656916,86492908,97944898,49840063,96237517,1141753,44858135,6362391,89525239,7838313,1133609,82175503,30398705,95469297,95242445,98471462,248014,96062288,8657434,21641830,94763670,93558538,94973652,53527579,63768182,1314047,86189891,97912881,86431681,98328740,8395413,87127348,98054338,87437497,97615266,87274234,92805476,93501091,25153879,97912286,94856222,20432346,98595443,95301468,19968630,93200151,95297782,40883782]],[[98028099,39581392,85183015,29763268,17361919,86358191,93614810,20134336,96517218,96946388,94985130,98630740,32497,118716,97917588,95464638,14371193,97827748,84621662,12204046,129092,95218894,972213,77869,21943708,95472210,98280096,98076740,24934194,7303768,89661043,95484388,18572495,74330265,93781539,82626217,81360300,532279,10601948,55247084,95331022,95604292,21783861,50098404,97459536,94513807,95254856,92757322,92708366,95238950,94489148,95297461,85525705]],[[97003497,94490164,97323927,96974785,97071929,96103845,94655812,94586963,95285513,1031889,97113578,67851531,85948849,52927985,97354538,64795793,96564471,37562483,96086447,94322384,62840735,96454372,79505335,96547053,96936514,96086379,87421858,98514089,92244526,5662816,22610996,96580973,14157384,946223,73891418,71309468,37072355,69556544,30219230,14362905,95141462,9493423,98340870,90010745,92391346,32153977,88763183,1353287]],[[95084379,535634,1083600,96928559,94598035,98088849,97528273,153462,88800790,98374683,88763465,11872139,85662779,41323872,94751895,98022429,91883701,47680225,68451505,90084449,97205184,96321020,4207207,56551270,92535618,67659833,1293690,94681671,17003387,1897620,94656409,96182748,98519687]],[[93496332,319448,90285319,94071072,89942819,97275250,95610179,26594035,10400867,96149121,94627801,94361296,98497149,98477334,95497377,3835321,92841426,95093262,17657448,28873287,33528081,51933842,949150,94376415,1364181,88787218,96546716,31785517,1349815,92928612]],[[29941950,96660345,64360494,86093886,94752414,94372898,44669003,95206345,4003005,98370675,51904436,96273103]],[[95720186,194213,98306946,71152892,21767036,92951646,94582194,97849879,97443237,98344616,93978350]],[[95591247,93795269,93008074,6559953,36011415,27629985,58199386,40035211,1533105,18348189,47584216,92963738]],[[6755340,94657105,96105725,9830558,16543498,95706413]],[[89778988,97632525,1364859,1101737,95367651]],[[93917404,98376162,96200693,97117522,95916288]],[[89355099,90116263]],[[26037499,96881635,15888207,86019532,18856439,55728247,98413409,97484756]],[[97752801,97912529,97024801]],[[97196247,83626690,51930260,24014640,90834993]],[[82595198]],[[98115869]],[[97356262]],[[97343669]],[[4690251]],[[40119957]]],\"hovertemplate\":\"Number of Check-ins=%{x}\\u003cbr\\u003eNumber of Users=%{y}\\u003cbr\\u003eList of User IDs=%{customdata[0]}\\u003cextra\\u003e\\u003c\\u002fextra\\u003e\",\"legendgroup\":\"\",\"marker\":{\"color\":\"#636efa\",\"pattern\":{\"shape\":\"\"}},\"name\":\"\",\"offsetgroup\":\"\",\"orientation\":\"v\",\"showlegend\":false,\"textposition\":\"auto\",\"x\":[1,2,3,4,5,6,7,8,9,10,11,12,13,14,15,16,17,18,19,20,21,22,23,24,25,44],\"xaxis\":\"x\",\"y\":[240,141,105,76,79,62,53,48,33,30,12,11,12,6,5,5,2,8,3,5,1,1,1,1,1,1],\"yaxis\":\"y\",\"type\":\"bar\"}],                        {\"template\":{\"data\":{\"histogram2dcontour\":[{\"type\":\"histogram2dcontour\",\"colorbar\":{\"outlinewidth\":0,\"ticks\":\"\"},\"colorscale\":[[0.0,\"#0d0887\"],[0.1111111111111111,\"#46039f\"],[0.2222222222222222,\"#7201a8\"],[0.3333333333333333,\"#9c179e\"],[0.4444444444444444,\"#bd3786\"],[0.5555555555555556,\"#d8576b\"],[0.6666666666666666,\"#ed7953\"],[0.7777777777777778,\"#fb9f3a\"],[0.8888888888888888,\"#fdca26\"],[1.0,\"#f0f921\"]]}],\"choropleth\":[{\"type\":\"choropleth\",\"colorbar\":{\"outlinewidth\":0,\"ticks\":\"\"}}],\"histogram2d\":[{\"type\":\"histogram2d\",\"colorbar\":{\"outlinewidth\":0,\"ticks\":\"\"},\"colorscale\":[[0.0,\"#0d0887\"],[0.1111111111111111,\"#46039f\"],[0.2222222222222222,\"#7201a8\"],[0.3333333333333333,\"#9c179e\"],[0.4444444444444444,\"#bd3786\"],[0.5555555555555556,\"#d8576b\"],[0.6666666666666666,\"#ed7953\"],[0.7777777777777778,\"#fb9f3a\"],[0.8888888888888888,\"#fdca26\"],[1.0,\"#f0f921\"]]}],\"heatmap\":[{\"type\":\"heatmap\",\"colorbar\":{\"outlinewidth\":0,\"ticks\":\"\"},\"colorscale\":[[0.0,\"#0d0887\"],[0.1111111111111111,\"#46039f\"],[0.2222222222222222,\"#7201a8\"],[0.3333333333333333,\"#9c179e\"],[0.4444444444444444,\"#bd3786\"],[0.5555555555555556,\"#d8576b\"],[0.6666666666666666,\"#ed7953\"],[0.7777777777777778,\"#fb9f3a\"],[0.8888888888888888,\"#fdca26\"],[1.0,\"#f0f921\"]]}],\"heatmapgl\":[{\"type\":\"heatmapgl\",\"colorbar\":{\"outlinewidth\":0,\"ticks\":\"\"},\"colorscale\":[[0.0,\"#0d0887\"],[0.1111111111111111,\"#46039f\"],[0.2222222222222222,\"#7201a8\"],[0.3333333333333333,\"#9c179e\"],[0.4444444444444444,\"#bd3786\"],[0.5555555555555556,\"#d8576b\"],[0.6666666666666666,\"#ed7953\"],[0.7777777777777778,\"#fb9f3a\"],[0.8888888888888888,\"#fdca26\"],[1.0,\"#f0f921\"]]}],\"contourcarpet\":[{\"type\":\"contourcarpet\",\"colorbar\":{\"outlinewidth\":0,\"ticks\":\"\"}}],\"contour\":[{\"type\":\"contour\",\"colorbar\":{\"outlinewidth\":0,\"ticks\":\"\"},\"colorscale\":[[0.0,\"#0d0887\"],[0.1111111111111111,\"#46039f\"],[0.2222222222222222,\"#7201a8\"],[0.3333333333333333,\"#9c179e\"],[0.4444444444444444,\"#bd3786\"],[0.5555555555555556,\"#d8576b\"],[0.6666666666666666,\"#ed7953\"],[0.7777777777777778,\"#fb9f3a\"],[0.8888888888888888,\"#fdca26\"],[1.0,\"#f0f921\"]]}],\"surface\":[{\"type\":\"surface\",\"colorbar\":{\"outlinewidth\":0,\"ticks\":\"\"},\"colorscale\":[[0.0,\"#0d0887\"],[0.1111111111111111,\"#46039f\"],[0.2222222222222222,\"#7201a8\"],[0.3333333333333333,\"#9c179e\"],[0.4444444444444444,\"#bd3786\"],[0.5555555555555556,\"#d8576b\"],[0.6666666666666666,\"#ed7953\"],[0.7777777777777778,\"#fb9f3a\"],[0.8888888888888888,\"#fdca26\"],[1.0,\"#f0f921\"]]}],\"mesh3d\":[{\"type\":\"mesh3d\",\"colorbar\":{\"outlinewidth\":0,\"ticks\":\"\"}}],\"scatter\":[{\"fillpattern\":{\"fillmode\":\"overlay\",\"size\":10,\"solidity\":0.2},\"type\":\"scatter\"}],\"parcoords\":[{\"type\":\"parcoords\",\"line\":{\"colorbar\":{\"outlinewidth\":0,\"ticks\":\"\"}}}],\"scatterpolargl\":[{\"type\":\"scatterpolargl\",\"marker\":{\"colorbar\":{\"outlinewidth\":0,\"ticks\":\"\"}}}],\"bar\":[{\"error_x\":{\"color\":\"#2a3f5f\"},\"error_y\":{\"color\":\"#2a3f5f\"},\"marker\":{\"line\":{\"color\":\"#E5ECF6\",\"width\":0.5},\"pattern\":{\"fillmode\":\"overlay\",\"size\":10,\"solidity\":0.2}},\"type\":\"bar\"}],\"scattergeo\":[{\"type\":\"scattergeo\",\"marker\":{\"colorbar\":{\"outlinewidth\":0,\"ticks\":\"\"}}}],\"scatterpolar\":[{\"type\":\"scatterpolar\",\"marker\":{\"colorbar\":{\"outlinewidth\":0,\"ticks\":\"\"}}}],\"histogram\":[{\"marker\":{\"pattern\":{\"fillmode\":\"overlay\",\"size\":10,\"solidity\":0.2}},\"type\":\"histogram\"}],\"scattergl\":[{\"type\":\"scattergl\",\"marker\":{\"colorbar\":{\"outlinewidth\":0,\"ticks\":\"\"}}}],\"scatter3d\":[{\"type\":\"scatter3d\",\"line\":{\"colorbar\":{\"outlinewidth\":0,\"ticks\":\"\"}},\"marker\":{\"colorbar\":{\"outlinewidth\":0,\"ticks\":\"\"}}}],\"scattermapbox\":[{\"type\":\"scattermapbox\",\"marker\":{\"colorbar\":{\"outlinewidth\":0,\"ticks\":\"\"}}}],\"scatterternary\":[{\"type\":\"scatterternary\",\"marker\":{\"colorbar\":{\"outlinewidth\":0,\"ticks\":\"\"}}}],\"scattercarpet\":[{\"type\":\"scattercarpet\",\"marker\":{\"colorbar\":{\"outlinewidth\":0,\"ticks\":\"\"}}}],\"carpet\":[{\"aaxis\":{\"endlinecolor\":\"#2a3f5f\",\"gridcolor\":\"white\",\"linecolor\":\"white\",\"minorgridcolor\":\"white\",\"startlinecolor\":\"#2a3f5f\"},\"baxis\":{\"endlinecolor\":\"#2a3f5f\",\"gridcolor\":\"white\",\"linecolor\":\"white\",\"minorgridcolor\":\"white\",\"startlinecolor\":\"#2a3f5f\"},\"type\":\"carpet\"}],\"table\":[{\"cells\":{\"fill\":{\"color\":\"#EBF0F8\"},\"line\":{\"color\":\"white\"}},\"header\":{\"fill\":{\"color\":\"#C8D4E3\"},\"line\":{\"color\":\"white\"}},\"type\":\"table\"}],\"barpolar\":[{\"marker\":{\"line\":{\"color\":\"#E5ECF6\",\"width\":0.5},\"pattern\":{\"fillmode\":\"overlay\",\"size\":10,\"solidity\":0.2}},\"type\":\"barpolar\"}],\"pie\":[{\"automargin\":true,\"type\":\"pie\"}]},\"layout\":{\"autotypenumbers\":\"strict\",\"colorway\":[\"#636efa\",\"#EF553B\",\"#00cc96\",\"#ab63fa\",\"#FFA15A\",\"#19d3f3\",\"#FF6692\",\"#B6E880\",\"#FF97FF\",\"#FECB52\"],\"font\":{\"color\":\"#2a3f5f\"},\"hovermode\":\"closest\",\"hoverlabel\":{\"align\":\"left\"},\"paper_bgcolor\":\"white\",\"plot_bgcolor\":\"#E5ECF6\",\"polar\":{\"bgcolor\":\"#E5ECF6\",\"angularaxis\":{\"gridcolor\":\"white\",\"linecolor\":\"white\",\"ticks\":\"\"},\"radialaxis\":{\"gridcolor\":\"white\",\"linecolor\":\"white\",\"ticks\":\"\"}},\"ternary\":{\"bgcolor\":\"#E5ECF6\",\"aaxis\":{\"gridcolor\":\"white\",\"linecolor\":\"white\",\"ticks\":\"\"},\"baxis\":{\"gridcolor\":\"white\",\"linecolor\":\"white\",\"ticks\":\"\"},\"caxis\":{\"gridcolor\":\"white\",\"linecolor\":\"white\",\"ticks\":\"\"}},\"coloraxis\":{\"colorbar\":{\"outlinewidth\":0,\"ticks\":\"\"}},\"colorscale\":{\"sequential\":[[0.0,\"#0d0887\"],[0.1111111111111111,\"#46039f\"],[0.2222222222222222,\"#7201a8\"],[0.3333333333333333,\"#9c179e\"],[0.4444444444444444,\"#bd3786\"],[0.5555555555555556,\"#d8576b\"],[0.6666666666666666,\"#ed7953\"],[0.7777777777777778,\"#fb9f3a\"],[0.8888888888888888,\"#fdca26\"],[1.0,\"#f0f921\"]],\"sequentialminus\":[[0.0,\"#0d0887\"],[0.1111111111111111,\"#46039f\"],[0.2222222222222222,\"#7201a8\"],[0.3333333333333333,\"#9c179e\"],[0.4444444444444444,\"#bd3786\"],[0.5555555555555556,\"#d8576b\"],[0.6666666666666666,\"#ed7953\"],[0.7777777777777778,\"#fb9f3a\"],[0.8888888888888888,\"#fdca26\"],[1.0,\"#f0f921\"]],\"diverging\":[[0,\"#8e0152\"],[0.1,\"#c51b7d\"],[0.2,\"#de77ae\"],[0.3,\"#f1b6da\"],[0.4,\"#fde0ef\"],[0.5,\"#f7f7f7\"],[0.6,\"#e6f5d0\"],[0.7,\"#b8e186\"],[0.8,\"#7fbc41\"],[0.9,\"#4d9221\"],[1,\"#276419\"]]},\"xaxis\":{\"gridcolor\":\"white\",\"linecolor\":\"white\",\"ticks\":\"\",\"title\":{\"standoff\":15},\"zerolinecolor\":\"white\",\"automargin\":true,\"zerolinewidth\":2},\"yaxis\":{\"gridcolor\":\"white\",\"linecolor\":\"white\",\"ticks\":\"\",\"title\":{\"standoff\":15},\"zerolinecolor\":\"white\",\"automargin\":true,\"zerolinewidth\":2},\"scene\":{\"xaxis\":{\"backgroundcolor\":\"#E5ECF6\",\"gridcolor\":\"white\",\"linecolor\":\"white\",\"showbackground\":true,\"ticks\":\"\",\"zerolinecolor\":\"white\",\"gridwidth\":2},\"yaxis\":{\"backgroundcolor\":\"#E5ECF6\",\"gridcolor\":\"white\",\"linecolor\":\"white\",\"showbackground\":true,\"ticks\":\"\",\"zerolinecolor\":\"white\",\"gridwidth\":2},\"zaxis\":{\"backgroundcolor\":\"#E5ECF6\",\"gridcolor\":\"white\",\"linecolor\":\"white\",\"showbackground\":true,\"ticks\":\"\",\"zerolinecolor\":\"white\",\"gridwidth\":2}},\"shapedefaults\":{\"line\":{\"color\":\"#2a3f5f\"}},\"annotationdefaults\":{\"arrowcolor\":\"#2a3f5f\",\"arrowhead\":0,\"arrowwidth\":1},\"geo\":{\"bgcolor\":\"white\",\"landcolor\":\"#E5ECF6\",\"subunitcolor\":\"white\",\"showland\":true,\"showlakes\":true,\"lakecolor\":\"white\"},\"title\":{\"x\":0.05},\"mapbox\":{\"style\":\"light\"}}},\"xaxis\":{\"anchor\":\"y\",\"domain\":[0.0,1.0],\"title\":{\"text\":\"Number of Check-ins\"},\"tickmode\":\"linear\",\"dtick\":2},\"yaxis\":{\"anchor\":\"x\",\"domain\":[0.0,1.0],\"title\":{\"text\":\"Number of Users\"},\"tickmode\":\"linear\",\"dtick\":10},\"legend\":{\"tracegroupgap\":0},\"margin\":{\"t\":60},\"barmode\":\"relative\",\"title\":{\"text\":\"Frequency Distribution of User Counts (1 to 50)\"},\"hovermode\":\"closest\"},                        {\"responsive\": true}                    ).then(function(){\n",
       "                            \n",
       "var gd = document.getElementById('13fdb2af-c5c3-4061-90cf-47ec0cb45448');\n",
       "var x = new MutationObserver(function (mutations, observer) {{\n",
       "        var display = window.getComputedStyle(gd).display;\n",
       "        if (!display || display === 'none') {{\n",
       "            console.log([gd, 'removed!']);\n",
       "            Plotly.purge(gd);\n",
       "            observer.disconnect();\n",
       "        }}\n",
       "}});\n",
       "\n",
       "// Listen for the removal of the full notebook cells\n",
       "var notebookContainer = gd.closest('#notebook-container');\n",
       "if (notebookContainer) {{\n",
       "    x.observe(notebookContainer, {childList: true});\n",
       "}}\n",
       "\n",
       "// Listen for the clearing of the current output cell\n",
       "var outputEl = gd.closest('.output');\n",
       "if (outputEl) {{\n",
       "    x.observe(outputEl, {childList: true});\n",
       "}}\n",
       "\n",
       "                        })                };                });            </script>        </div>"
      ]
     },
     "metadata": {},
     "output_type": "display_data"
    }
   ],
   "source": [
    "import pandas as pd\n",
    "import plotly.express as px\n",
    "\n",
    "# Load the dataset\n",
    "df = pd.read_csv(\"Checkin.csv\")\n",
    "\n",
    "# Count the occurrences of each user ID\n",
    "user_id_counts = df['userid'].value_counts()\n",
    "\n",
    "# Count the frequency of each count value\n",
    "frequency_distribution = user_id_counts.value_counts().sort_index()\n",
    "\n",
    "# Filter the distribution to only include counts from 1 to 50\n",
    "filtered_distribution = frequency_distribution[frequency_distribution.index <= 50]\n",
    "\n",
    "# Create a DataFrame for plotting\n",
    "plot_df = pd.DataFrame({\n",
    "    'Number of Check-ins': filtered_distribution.index,\n",
    "    'Number of Users': filtered_distribution.values\n",
    "})\n",
    "\n",
    "# Add a column for the list of user IDs corresponding to each count value\n",
    "user_ids_per_count = user_id_counts.groupby(user_id_counts).apply(lambda x: x.index.tolist()).reindex(range(1, 51), fill_value=[])\n",
    "\n",
    "# Create the interactive plot\n",
    "fig = px.bar(plot_df, x='Number of Check-ins', y='Number of Users',\n",
    "             hover_data={'Number of Users': True,\n",
    "                         'User IDs': [user_ids_per_count[count] for count in plot_df['Number of Check-ins']]},\n",
    "             labels={'User IDs': 'List of User IDs'})\n",
    "\n",
    "# Update the layout for better visualization\n",
    "fig.update_layout(\n",
    "    title='Frequency Distribution of User Counts (1 to 50)',\n",
    "    xaxis_title='Number of Check-ins',\n",
    "    yaxis_title='Number of Users',\n",
    "    hovermode='closest',\n",
    "    xaxis=dict(\n",
    "        tickmode='linear',\n",
    "        dtick=2  # Specify the tick interval for x-axis\n",
    "    ),\n",
    "    yaxis=dict(\n",
    "        tickmode='linear',\n",
    "        dtick=10  # Specify the tick interval for y-axis\n",
    "    )\n",
    ")\n",
    "\n",
    "# Show the plot\n",
    "fig.show()\n"
   ]
  },
  {
   "cell_type": "code",
   "execution_count": 10,
   "id": "1161bd42",
   "metadata": {},
   "outputs": [
    {
     "data": {
      "image/png": "[encoded data removed]",
      "text/plain": [
       "<Figure size 1008x432 with 1 Axes>"
      ]
     },
     "metadata": {
      "needs_background": "light"
     },
     "output_type": "display_data"
    }
   ],
   "source": [
    "import pandas as pd\n",
    "import matplotlib.pyplot as plt\n",
    "\n",
    "# Step 1: Load the dataset\n",
    "df = pd.read_csv('Checkin.csv')\n",
    "\n",
    "# Step 2: Parse Dates\n",
    "df['checkintime'] = pd.to_datetime(df['checkintime'])\n",
    "\n",
    "# Step 3: Extract Day\n",
    "df['checkin_day'] = df['checkintime'].dt.date\n",
    "\n",
    "# Step 4: Count Frequency\n",
    "daily_counts = df['checkin_day'].value_counts().sort_index()\n",
    "\n",
    "# Step 5: Plot\n",
    "plt.figure(figsize=(14, 6))\n",
    "daily_counts.plot(marker='o', linestyle='-', color='skyblue')\n",
    "plt.title('Check-in Frequency by Day')\n",
    "plt.xlabel('Date')\n",
    "plt.ylabel('Frequency')\n",
    "plt.xticks(rotation=45)\n",
    "plt.grid(axis='y')\n",
    "plt.tight_layout()\n",
    "plt.show()\n"
   ]
  },
  {
   "cell_type": "code",
   "execution_count": 11,
   "id": "e4f2842d",
   "metadata": {},
   "outputs": [
    {
     "data": {
      "image/png": "[encoded data removed]",
      "text/plain": [
       "<Figure size 720x432 with 1 Axes>"
      ]
     },
     "metadata": {
      "needs_background": "light"
     },
     "output_type": "display_data"
    }
   ],
   "source": [
    "import pandas as pd\n",
    "import matplotlib.pyplot as plt\n",
    "\n",
    "# Step 1: Load the dataset\n",
    "df = pd.read_csv('Checkin.csv')\n",
    "\n",
    "# Step 2: Parse Dates\n",
    "df['checkintime'] = pd.to_datetime(df['checkintime'])\n",
    "\n",
    "# Step 3: Extract Day of Week\n",
    "df['day_of_week'] = df['checkintime'].dt.day_name()\n",
    "\n",
    "# Step 4: Count Frequency\n",
    "day_of_week_counts = df['day_of_week'].value_counts().sort_index()\n",
    "\n",
    "# Step 5: Plot\n",
    "plt.figure(figsize=(10, 6))\n",
    "day_of_week_counts.plot(kind='bar', color='skyblue')\n",
    "plt.title('Check-in Frequency by Day of Week')\n",
    "plt.xlabel('Day of Week')\n",
    "plt.ylabel('Frequency')\n",
    "plt.xticks(rotation=45)\n",
    "plt.grid(axis='y')\n",
    "plt.tight_layout()\n",
    "plt.show()\n"
   ]
  },
  {
   "cell_type": "code",
   "execution_count": null,
   "id": "44005ac2",
   "metadata": {},
   "outputs": [],
   "source": []
  }
 ],
 "metadata": {
  "kernelspec": {
   "display_name": "Python 3",
   "language": "python",
   "name": "python3"
  },
  "language_info": {
   "codemirror_mode": {
    "name": "ipython",
    "version": 3
   },
   "file_extension": ".py",
   "mimetype": "text/x-python",
   "name": "python",
   "nbconvert_exporter": "python",
   "pygments_lexer": "ipython3",
   "version": "3.8.5"
  }
 },
 "nbformat": 4,
 "nbformat_minor": 5
}
