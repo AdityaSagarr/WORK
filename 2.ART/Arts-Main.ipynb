{
 "cells": [
  {
   "cell_type": "code",
   "execution_count": 1,
   "metadata": {},
   "outputs": [],
   "source": [
    "import numpy as np\n",
    "import pandas as pd\n",
    "import os\n",
    " \n",
    "excel_file =  r\"Arts-Matrix.xlsx\"  # Replace with your Excel file path\n",
    "df = pd.read_excel(excel_file)\n",
    "\n",
    "first_column = df.iloc[:, 0]\n",
    "column_names = first_column.tolist()\n",
    "# Use the first column name as the index\n",
    "df.drop(df.columns[0], axis=1, inplace=True)\n",
    "\n",
    "\n",
    "correlation_matrix = df.values\n",
    "\n",
    "mean = np.zeros(correlation_matrix.shape[0])\n",
    "data = np.random.multivariate_normal(mean, correlation_matrix, size=1000)\n",
    "df = pd.DataFrame(data, columns=column_names)\n",
    "\n",
    "\n",
    "df.to_csv('Art-output.csv', index=False)\n"
   ]
  }
 ],
 "metadata": {
  "kernelspec": {
   "display_name": "Python 3",
   "language": "python",
   "name": "python3"
  },
  "language_info": {
   "codemirror_mode": {
    "name": "ipython",
    "version": 3
   },
   "file_extension": ".py",
   "mimetype": "text/x-python",
   "name": "python",
   "nbconvert_exporter": "python",
   "pygments_lexer": "ipython3",
   "version": "3.8.5"
  }
 },
 "nbformat": 4,
 "nbformat_minor": 4
}
