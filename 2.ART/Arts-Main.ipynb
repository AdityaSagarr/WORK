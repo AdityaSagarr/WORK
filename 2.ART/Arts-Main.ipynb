{
 "cells": [
  {
   "cell_type": "code",
   "execution_count": 2,
   "metadata": {},
   "outputs": [],
   "source": [
    "import numpy as np\n",
    "import pandas as pd\n",
    "import os\n",
    " \n",
    "excel_file = r\"Arts-Matrix.xlsx\"  # Replace with your Excel file path\n",
    " \n",
    "df = pd.read_excel(excel_file)\n",
    " \n",
    "correlation_matrix = df.values\n",
    " \n",
    "# Generate random data\n",
    "mean = np.zeros(correlation_matrix.shape[0])\n",
    "data = np.random.multivariate_normal(mean, correlation_matrix, size=1000)\n",
    " \n",
    "# Generate column names\n",
    "num_columns = correlation_matrix.shape[0]\n",
    "column_names = [f\"Column_{i}\" for i in range(num_columns)]\n",
    " \n",
    "# Create a pandas DataFrame from the data\n",
    "df = pd.DataFrame(data, columns=column_names)\n",
    " \n",
    "# Save the DataFrame to a CSV file with an auto-incrementing name\n",
    "output_file_prefix = \"Arts-output\"\n",
    "output_file_extension = \".csv\"\n",
    "index = 1\n",
    "output_file_name = f\"{output_file_prefix}_{index}{output_file_extension}\"\n",
    " \n",
    "while output_file_name in os.listdir():\n",
    "    index += 1\n",
    "    output_file_name = f\"{output_file_prefix}_{index}{output_file_extension}\"\n",
    " \n",
    "df.to_csv(output_file_name, index=False)"
   ]
  }
 ],
 "metadata": {
  "kernelspec": {
   "display_name": "Python 3",
   "language": "python",
   "name": "python3"
  },
  "language_info": {
   "codemirror_mode": {
    "name": "ipython",
    "version": 3
   },
   "file_extension": ".py",
   "mimetype": "text/x-python",
   "name": "python",
   "nbconvert_exporter": "python",
   "pygments_lexer": "ipython3",
   "version": "3.8.5"
  }
 },
 "nbformat": 4,
 "nbformat_minor": 4
}
