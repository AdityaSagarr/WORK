{
 "cells": [
  {
   "cell_type": "code",
   "execution_count": 1,
   "metadata": {},
   "outputs": [
    {
     "name": "stderr",
     "output_type": "stream",
     "text": [
      "<ipython-input-1-f2093dbe2a0b>:16: RuntimeWarning: covariance is not positive-semidefinite.\n",
      "  data = np.random.multivariate_normal(mean, correlation_matrix, size=1000)\n"
     ]
    }
   ],
   "source": [
    "import numpy as np\n",
    "import pandas as pd\n",
    "\n",
    "# Load your Excel data\n",
    "excel_file = r\"Music-Matrix.xlsx\"  # Replace with your Excel file path\n",
    "df = pd.read_excel(excel_file)\n",
    "\n",
    "# Store the column names for later use\n",
    "column_names = df.columns.tolist()\n",
    "\n",
    "# Drop the first column and calculate the correlation matrix\n",
    "correlation_matrix = df.iloc[:, 1:].values\n",
    "\n",
    "# Generate random data based on the correlation matrix\n",
    "mean = np.zeros(correlation_matrix.shape[0])\n",
    "data = np.random.multivariate_normal(mean, correlation_matrix, size=1000)\n",
    "\n",
    "# Create a DataFrame with the generated data and column names\n",
    "df = pd.DataFrame(data, columns=column_names[1:])  # Exclude the first column\n",
    "\n",
    "# Normalize the values between 0 and 1\n",
    "df_normalized = (df - df.min()) / (df.max() - df.min())\n",
    "\n",
    "# Save the normalized data to a CSV file\n",
    "df_normalized.to_csv('Music-output.csv', index=False)\n"
   ]
  }
 ],
 "metadata": {
  "kernelspec": {
   "display_name": "Python 3",
   "language": "python",
   "name": "python3"
  },
  "language_info": {
   "codemirror_mode": {
    "name": "ipython",
    "version": 3
   },
   "file_extension": ".py",
   "mimetype": "text/x-python",
   "name": "python",
   "nbconvert_exporter": "python",
   "pygments_lexer": "ipython3",
   "version": "3.8.5"
  }
 },
 "nbformat": 4,
 "nbformat_minor": 4
}
